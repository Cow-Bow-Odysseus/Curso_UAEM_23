{
 "cells": [
  {
   "attachments": {},
   "cell_type": "markdown",
   "metadata": {},
   "source": [
    "## Contenido 📕"
   ]
  },
  {
   "attachments": {},
   "cell_type": "markdown",
   "metadata": {},
   "source": [
    "1. Instalación 📖\n",
    "\n",
    "2. Datos 💬\n",
    "\n",
    "    2.1 Tipos de Variables\n",
    "\n",
    "    2.2 Listas\n",
    "\n",
    "    2.3 Diccionarios\n",
    "\n",
    "    2.4 Condicionales\n",
    "\n",
    "    2.5 Bucles\n",
    "\n",
    "    2.6 Funciones\n",
    "\n",
    "3. Ejercicio ✍🏻\n",
    "\n",
    "4. Herramientas Extra 🔩🧲"
   ]
  },
  {
   "attachments": {},
   "cell_type": "markdown",
   "metadata": {},
   "source": [
    "## Instalación"
   ]
  },
  {
   "attachments": {},
   "cell_type": "markdown",
   "metadata": {},
   "source": [
    "Para usuarios Windows accedemos a Python.org, en este caso para facilitar la instalación damos clic donde dice **\"Downloads\"** y en esa pestaña nos mostrará la versión reciente y más recomendada para nuestro equipo, descargamos e instalamos. Dentro de las configuraciones marcamos la casilla de **Add Python 3.11 to PATH**, esta sirve para poder ejecutar código desde el CMD.\n",
    "\n",
    "![\"Ref1\"](Images/Install.png)\n",
    "\n",
    "![\"Ref2\"](Images/Install2.png)\n",
    "\n",
    "Para verificar que Python quedo bien instalado, presionamos la tecla de Windows, escribimos cmd y abrimos, dentro de esta escribimos **py -V**, este comando nos devolverá la versión instalada.\n",
    "\n",
    "Para tener un entorno donde trabajar ejecutamos en el CMD el siguiente código **pip install ipykernel jupyterlab**.\n",
    "\n",
    "Ahora necesitamos un entorno de desarrollo, el más común es el VSCode, para este, abrimos la tienda de Windows, buscamos \"VSCode\", y esa aplicación la instalamos, una vez que este instalada cerramos la tienda.\n",
    "\n",
    "![\"Ref3\"](Images/Install3.png)\n",
    "\n",
    "Finalmente abrimos nuevamente el CMD, usando el comando **cd ruta_a_mover** nos movemos entre las carpetas (cd: change directory), una vez que llegemos a la carpeta a trabajar escribimos el siguiente comando **code .**, y esto abrirá el VSCode y creamos un archivo **\"ejemplo.ipynb\"**, esto abrirá un notebook para trabajar.\n",
    "\n",
    "Para macOS, son pasos similares, omitiendo la  parte final.\n",
    "\n",
    "🟢🟢🟢 Una forma de saltarnos este paso es ingresando a google, buscamos **Google Colab**, y damos clic en **\"Nuevo Cuaderno\"**, en este caso nos va a dar una interfaz de python lista para trabajar. 🟢🟢🟢"
   ]
  },
  {
   "attachments": {},
   "cell_type": "markdown",
   "metadata": {},
   "source": [
    "## Datos"
   ]
  },
  {
   "attachments": {},
   "cell_type": "markdown",
   "metadata": {},
   "source": [
    "### Tipos de Variables\n",
    "\n",
    "Las más comunes."
   ]
  },
  {
   "cell_type": "code",
   "execution_count": 1,
   "metadata": {},
   "outputs": [
    {
     "name": "stdout",
     "output_type": "stream",
     "text": [
      "14\n"
     ]
    }
   ],
   "source": [
    "# Almacenar un número\n",
    "a = 14\n",
    "print(a)"
   ]
  },
  {
   "cell_type": "code",
   "execution_count": null,
   "metadata": {},
   "outputs": [
    {
     "name": "stdout",
     "output_type": "stream",
     "text": [
      "This is some text\n"
     ]
    }
   ],
   "source": [
    "# O texto\n",
    "b = \"This is some text\"\n",
    "print(b)"
   ]
  },
  {
   "attachments": {},
   "cell_type": "markdown",
   "metadata": {},
   "source": [
    "#### Operaciones básicas con variables?"
   ]
  },
  {
   "cell_type": "code",
   "execution_count": null,
   "metadata": {},
   "outputs": [
    {
     "name": "stdout",
     "output_type": "stream",
     "text": [
      "17\n"
     ]
    }
   ],
   "source": [
    "# La misma lógica aplica para suma, resta, mult, etc\n",
    "a = 14\n",
    "c = 3\n",
    "d = a + c\n",
    "print(d)"
   ]
  },
  {
   "cell_type": "code",
   "execution_count": null,
   "metadata": {},
   "outputs": [
    {
     "name": "stdout",
     "output_type": "stream",
     "text": [
      "17\n"
     ]
    }
   ],
   "source": [
    "# O\n",
    "print(a+c)"
   ]
  },
  {
   "cell_type": "code",
   "execution_count": null,
   "metadata": {},
   "outputs": [
    {
     "name": "stdout",
     "output_type": "stream",
     "text": [
      "18\n"
     ]
    }
   ],
   "source": [
    "# Sobreescribir valores de las variables?\n",
    "a = 18\n",
    "print(a)"
   ]
  },
  {
   "cell_type": "code",
   "execution_count": null,
   "metadata": {},
   "outputs": [
    {
     "name": "stdout",
     "output_type": "stream",
     "text": [
      "1\n",
      "<class 'int'>\n",
      "5.0\n",
      "<class 'float'>\n",
      "True\n",
      "<class 'bool'>\n",
      "7\n",
      "<class 'str'>\n"
     ]
    }
   ],
   "source": [
    "# Tipos de Varibles\n",
    "\n",
    "# Integer\n",
    "a = 1\n",
    "print(a)\n",
    "print(type(a))\n",
    "\n",
    "# Float variable (Non integer digits)\n",
    "a = 5.0\n",
    "print(a)\n",
    "print(type(a))\n",
    "\n",
    "# Boolean variable (True or False)\n",
    "a = True\n",
    "print(a)\n",
    "print(type(a))\n",
    "\n",
    "# Text/string variables\n",
    "a = \"7\" \n",
    "print(a)\n",
    "print(type(a))"
   ]
  },
  {
   "cell_type": "code",
   "execution_count": null,
   "metadata": {},
   "outputs": [
    {
     "name": "stdout",
     "output_type": "stream",
     "text": [
      "19\n",
      "<class 'int'>\n",
      "12\n",
      "<class 'str'>\n"
     ]
    }
   ],
   "source": [
    "# Operaciones\n",
    "\n",
    "x = 15\n",
    "y = 4\n",
    "z = x + y\n",
    "print(z)\n",
    "print(type(z))\n",
    "\n",
    "# string variables\n",
    "x = \"1\"\n",
    "y = \"2\"\n",
    "z = x + y\n",
    "print(z)\n",
    "print(type(z))"
   ]
  },
  {
   "cell_type": "code",
   "execution_count": 2,
   "metadata": {},
   "outputs": [
    {
     "name": "stdout",
     "output_type": "stream",
     "text": [
      "6.0\n",
      "<class 'float'>\n"
     ]
    }
   ],
   "source": [
    "# Algunos resultados se ven afectados por las combinaciones\n",
    "\n",
    "x = 15   # integer\n",
    "y = 2.5  # float\n",
    "z = x / y\n",
    "print(z)\n",
    "print(type(z))"
   ]
  },
  {
   "attachments": {},
   "cell_type": "markdown",
   "metadata": {},
   "source": [
    "### Listas"
   ]
  },
  {
   "cell_type": "code",
   "execution_count": 5,
   "metadata": {},
   "outputs": [
    {
     "name": "stdout",
     "output_type": "stream",
     "text": [
      "[1, 2, 3]\n"
     ]
    }
   ],
   "source": [
    "# También conocido como \"array\", este es una lista de enteros\n",
    "a = [1,2,3]\n",
    "print(a)"
   ]
  },
  {
   "cell_type": "code",
   "execution_count": 3,
   "metadata": {},
   "outputs": [
    {
     "name": "stdout",
     "output_type": "stream",
     "text": [
      "['Text', 4, 2.5]\n"
     ]
    }
   ],
   "source": [
    "# Se pueden almacenar distintos tipos de variables dentro de las listas\n",
    "b =  [\"Text\", 4, 2.5]\n",
    "print(b)"
   ]
  },
  {
   "cell_type": "code",
   "execution_count": 4,
   "metadata": {},
   "outputs": [
    {
     "name": "stdout",
     "output_type": "stream",
     "text": [
      "Text\n",
      "4\n",
      "2.5\n"
     ]
    }
   ],
   "source": [
    "# Acceder a los elementos\n",
    "\n",
    "# El índice de las listas empieza en 0, entonces una lista con 3 elementos puede ser indexada con 0,1 & 2\n",
    "print(b[0])\n",
    "print(b[1])\n",
    "print(b[2])\n"
   ]
  },
  {
   "cell_type": "code",
   "execution_count": 6,
   "metadata": {},
   "outputs": [
    {
     "name": "stdout",
     "output_type": "stream",
     "text": [
      "[1, 2, 3, 4]\n"
     ]
    }
   ],
   "source": [
    "# Agregar un nuevo elemto usando el método *apend*\n",
    "\n",
    "a.append(4)\n",
    "print(a)"
   ]
  },
  {
   "cell_type": "code",
   "execution_count": 7,
   "metadata": {},
   "outputs": [
    {
     "name": "stdout",
     "output_type": "stream",
     "text": [
      "4\n"
     ]
    }
   ],
   "source": [
    "# Obtener el largo de las listas\n",
    "print(len(a))"
   ]
  },
  {
   "cell_type": "code",
   "execution_count": 8,
   "metadata": {},
   "outputs": [
    {
     "name": "stdout",
     "output_type": "stream",
     "text": [
      "[1, 2, 3, 5]\n"
     ]
    }
   ],
   "source": [
    "# Cambiar el valor de un elemento de la lista\n",
    "\n",
    "a[3] = 5\n",
    "print(a)"
   ]
  },
  {
   "cell_type": "code",
   "execution_count": 10,
   "metadata": {},
   "outputs": [
    {
     "name": "stdout",
     "output_type": "stream",
     "text": [
      "Todos los elementos:  [1, 2, 3, 5]\n",
      "Todos los elementos de la 3ra posición en adelante:  [3, 5]\n",
      "Todos los elementos entre el 2do y 4to elemento:  [2, 3]\n",
      "Todos los elementos del último elemento [1, 2, 3]\n"
     ]
    }
   ],
   "source": [
    "# Slicing lists es una técnica para obtener elementos, desde distintas posiciones de una lista\n",
    "\n",
    "print(\"Todos los elementos: \", a[:])\n",
    "print(\"Todos los elementos de la 3ra posición en adelante: \", a[2:])\n",
    "print(\"Todos los elementos entre el 2do y 4to elemento: \", a[1:3])\n",
    "print(\"Todos los elementos del último elemento\", a[:-1])\n",
    "\n",
    "# Very useful guide:\n",
    "\n",
    "#a[start:stop]  # items start through stop-1\n",
    "#a[start:]      # items start through the rest of the array\n",
    "#a[:stop]       # items from the beginning through stop-1\n",
    "#a[:]           # a copy of the whole array"
   ]
  },
  {
   "attachments": {},
   "cell_type": "markdown",
   "metadata": {},
   "source": [
    "###  Diccionarios"
   ]
  },
  {
   "cell_type": "code",
   "execution_count": null,
   "metadata": {},
   "outputs": [
    {
     "name": "stdout",
     "output_type": "stream",
     "text": [
      "{'name': 'Japan', 'capital': 'Tokyo'}\n",
      "Japan\n",
      "Tokyo\n"
     ]
    }
   ],
   "source": [
    "# Crear un diccionario\n",
    "# El valor inicial es la Key o identificador único\n",
    "# El valor secundario es el valor asignado a esa Key\n",
    "\n",
    "country_info = {\"name\": \"Japan\",\n",
    "        \"capital\": \"Tokyo\"}\n",
    "\n",
    "print(country_info)\n",
    "print(country_info[\"name\"])\n",
    "print(country_info[\"capital\"])"
   ]
  },
  {
   "cell_type": "code",
   "execution_count": null,
   "metadata": {},
   "outputs": [
    {
     "name": "stdout",
     "output_type": "stream",
     "text": [
      "{'name': 'Japan', 'capital': 'Tokyo', 'population': '126.8M'}\n"
     ]
    }
   ],
   "source": [
    "# Se pueden almacenar múltiples valores y agregar nuevos a nuestro diccionario \n",
    "\n",
    "country_info['population'] = '126.8M'\n",
    "print(country_info)"
   ]
  },
  {
   "cell_type": "code",
   "execution_count": null,
   "metadata": {},
   "outputs": [
    {
     "name": "stdout",
     "output_type": "stream",
     "text": [
      "{'name': 'Japan', 'capital': 'Tokyo', 'population': '100M'}\n"
     ]
    }
   ],
   "source": [
    "# También podemos cambiar los valores de manera sencilla\n",
    "\n",
    "country_info['population'] = '100M'\n",
    "print(country_info)"
   ]
  },
  {
   "cell_type": "code",
   "execution_count": null,
   "metadata": {},
   "outputs": [
    {
     "name": "stdout",
     "output_type": "stream",
     "text": [
      "{'name': 'Japan', 'capital': 'Tokyo', 'population': '100M', 'regions': ['Hokkaido', 'Tohoku', 'Kanto', 'Chubu', 'Kinki', 'Chugoku', 'Shikoku', 'Kyushu-Okinawa']}\n"
     ]
    }
   ],
   "source": [
    "# Los valores pueden ser de cualquier tipo de dato\n",
    "\n",
    "country_info['regions'] = ['Hokkaido', 'Tohoku', 'Kanto', 'Chubu', 'Kinki', 'Chugoku', 'Shikoku', 'Kyushu-Okinawa']\n",
    "print(country_info)"
   ]
  },
  {
   "cell_type": "code",
   "execution_count": null,
   "metadata": {},
   "outputs": [
    {
     "name": "stdout",
     "output_type": "stream",
     "text": [
      "{'name': 'Japan', 'capital': 'Tokyo', 'population': '100M', 'regions': ['Hokkaido', 'Tohoku', 'Kanto', 'Chubu', 'Kinki', 'Chugoku', 'Shikoku', 'Kyushu-Okinawa'], 'health': {'life_expectancy': 84.1, 'birth_rate': 1.44}}\n"
     ]
    }
   ],
   "source": [
    "# Por ejemplo podemos añadir diccionarios o listas, a esto se le llama \"nested\" \n",
    "\n",
    "country_info['health'] = {\"life_expectancy\": 84.1, \"birth_rate\": 1.44}\n",
    "country_info['PIB'] = 1000000\n",
    "print(country_info)"
   ]
  },
  {
   "cell_type": "code",
   "execution_count": null,
   "metadata": {},
   "outputs": [
    {
     "data": {
      "text/plain": [
       "84.1"
      ]
     },
     "metadata": {},
     "output_type": "display_data"
    }
   ],
   "source": [
    "# Acceder a la información de nuestros diccionarios\n",
    "\n",
    "country_info['health']['life_expectancy']"
   ]
  },
  {
   "cell_type": "code",
   "execution_count": null,
   "metadata": {},
   "outputs": [
    {
     "data": {
      "text/plain": [
       "dict_values(['Japan', 'Tokyo', '100M', ['Hokkaido', 'Tohoku', 'Kanto', 'Chubu', 'Kinki', 'Chugoku', 'Shikoku', 'Kyushu-Okinawa'], {'life_expectancy': 84.1, 'birth_rate': 1.44}])"
      ]
     },
     "metadata": {},
     "output_type": "display_data"
    }
   ],
   "source": [
    "country_info.values()"
   ]
  },
  {
   "attachments": {},
   "cell_type": "markdown",
   "metadata": {},
   "source": [
    "### Condicionales"
   ]
  },
  {
   "cell_type": "code",
   "execution_count": null,
   "metadata": {},
   "outputs": [
    {
     "name": "stdout",
     "output_type": "stream",
     "text": [
      "over 10\n"
     ]
    }
   ],
   "source": [
    "# Usar el método IF\n",
    "\n",
    "x = 19\n",
    "\n",
    "if x < 10:\n",
    "    print(\"less than 10\")\n",
    "else:\n",
    "  print(\"over 10\")"
   ]
  },
  {
   "cell_type": "code",
   "execution_count": null,
   "metadata": {},
   "outputs": [
    {
     "name": "stdout",
     "output_type": "stream",
     "text": [
      "over 20\n"
     ]
    }
   ],
   "source": [
    "# Usar el método ELIF \n",
    "x = 29\n",
    "\n",
    "if x < 10:\n",
    "    print(\"less than 10\")\n",
    "elif x > 10 and x <= 19:\n",
    "    print(\"greater than zero but less than 10\")\n",
    "else:\n",
    "    print(\"over 20\")"
   ]
  },
  {
   "cell_type": "code",
   "execution_count": null,
   "metadata": {},
   "outputs": [
    {
     "name": "stdout",
     "output_type": "stream",
     "text": [
      "statement was true\n"
     ]
    }
   ],
   "source": [
    "# Usando booleans\n",
    "# If espera una condición de tipo booleana\n",
    "\n",
    "a = True\n",
    "if a:\n",
    "  print(\"statement was true\")"
   ]
  },
  {
   "attachments": {},
   "cell_type": "markdown",
   "metadata": {},
   "source": [
    "### Bucles"
   ]
  },
  {
   "cell_type": "code",
   "execution_count": null,
   "metadata": {},
   "outputs": [
    {
     "name": "stdout",
     "output_type": "stream",
     "text": [
      "[0, 1, 2, 3, 4]\n",
      "[1, 2, 3, 4]\n"
     ]
    }
   ],
   "source": [
    "# Función range\n",
    "\n",
    "print(list(range(5)))\n",
    "\n",
    "# O\n",
    "\n",
    "print(list(range(1,5)))"
   ]
  },
  {
   "cell_type": "code",
   "execution_count": null,
   "metadata": {},
   "outputs": [
    {
     "name": "stdout",
     "output_type": "stream",
     "text": [
      "0\n",
      "1\n",
      "2\n",
      "3\n",
      "4\n"
     ]
    }
   ],
   "source": [
    "for i in range(0,5):\n",
    "  print(i)"
   ]
  },
  {
   "cell_type": "code",
   "execution_count": null,
   "metadata": {},
   "outputs": [
    {
     "name": "stdout",
     "output_type": "stream",
     "text": [
      "a\n",
      "b\n",
      "c\n",
      "d\n"
     ]
    }
   ],
   "source": [
    "# Python nos permite iterar entre los elementos de una lista \n",
    "\n",
    "items = ['a','b', 'c', 'd']\n",
    "for i in items:\n",
    "  print(i)"
   ]
  },
  {
   "cell_type": "code",
   "execution_count": null,
   "metadata": {},
   "outputs": [
    {
     "name": "stdout",
     "output_type": "stream",
     "text": [
      "1 a\n",
      "2 b\n",
      "3 c\n",
      "4 d\n",
      "[1, 2, 3, 4]\n"
     ]
    }
   ],
   "source": [
    "# Incrementando variables en los bucles y alamacenandolos en una lista\n",
    "\n",
    "x = 0\n",
    "collecting_values_of_x = []\n",
    "\n",
    "items = ['a','b', 'c', 'd']\n",
    "for item in items:\n",
    "  x += 1\n",
    "  print(x, item)\n",
    "  collecting_values_of_x.append(x)\n",
    "\n",
    "print(collecting_values_of_x)"
   ]
  },
  {
   "cell_type": "code",
   "execution_count": null,
   "metadata": {},
   "outputs": [
    {
     "name": "stdout",
     "output_type": "stream",
     "text": [
      "1\n",
      "2\n",
      "3\n",
      "4\n",
      "5\n"
     ]
    }
   ],
   "source": [
    "# Bucles usando While\n",
    "\n",
    "x = 0\n",
    "while x < 5:\n",
    "    x += 1\n",
    "    print(x)"
   ]
  },
  {
   "cell_type": "code",
   "execution_count": null,
   "metadata": {},
   "outputs": [
    {
     "name": "stdout",
     "output_type": "stream",
     "text": [
      "1\n",
      "2\n",
      "3\n",
      "4\n",
      "5\n"
     ]
    }
   ],
   "source": [
    "# While loops\n",
    "\n",
    "x = 0\n",
    "while True:\n",
    "    if x == 5:\n",
    "      break\n",
    "    x += 1\n",
    "    print(x)"
   ]
  },
  {
   "attachments": {},
   "cell_type": "markdown",
   "metadata": {},
   "source": [
    "### Funciones"
   ]
  },
  {
   "cell_type": "code",
   "execution_count": null,
   "metadata": {},
   "outputs": [],
   "source": [
    "# Función para regresar el área de un círculo\n",
    "\n",
    "def areaCircle(radius):\n",
    "  area = 3.14 * (radius**2)\n",
    "  return area\n"
   ]
  },
  {
   "cell_type": "code",
   "execution_count": null,
   "metadata": {},
   "outputs": [
    {
     "data": {
      "text/plain": [
       "12.56"
      ]
     },
     "metadata": {},
     "output_type": "display_data"
    }
   ],
   "source": [
    "areaCircle(2)"
   ]
  },
  {
   "cell_type": "code",
   "execution_count": null,
   "metadata": {},
   "outputs": [],
   "source": [
    "# Más parámetros\n",
    "\n",
    "def volumeCylinder(radius, height):\n",
    "  volume = 3.14 * radius**2 * height\n",
    "  return volume"
   ]
  },
  {
   "cell_type": "code",
   "execution_count": null,
   "metadata": {},
   "outputs": [
    {
     "data": {
      "text/plain": [
       "471.0"
      ]
     },
     "metadata": {},
     "output_type": "display_data"
    }
   ],
   "source": [
    "volumeCylinder(radius = 5, height = 6)"
   ]
  },
  {
   "cell_type": "code",
   "execution_count": 13,
   "metadata": {},
   "outputs": [
    {
     "name": "stdout",
     "output_type": "stream",
     "text": [
      "¡Vamos a pistear Pablo Escobar!\n"
     ]
    }
   ],
   "source": [
    "# Usando clases\n",
    "\n",
    "class Alumno:\n",
    "\n",
    "    def __init__(self, nombre, apellido):\n",
    "        self.nombre = nombre\n",
    "        self.apellido= apellido\n",
    "\n",
    "    def saludar(self):\n",
    "        \"\"\"Imprime un saludo en pantalla.\"\"\"\n",
    "        print(f\"¡Vamos a pistear {self.nombre} {self.apellido}!\")\n",
    "\n",
    "\n",
    "alumno = Alumno(\"Pablo\", \"Escobar\")\n",
    "alumno.saludar()"
   ]
  },
  {
   "attachments": {},
   "cell_type": "markdown",
   "metadata": {},
   "source": [
    "## Ejercicio"
   ]
  },
  {
   "cell_type": "code",
   "execution_count": null,
   "metadata": {},
   "outputs": [],
   "source": [
    "## 1. Crea una función que en la siguiente lista, imprima el tipo de variable que es.\n",
    "\n",
    "# Lista\n",
    "Lista= [\"UAEM\", 2023, 1.618034, True]\n",
    "\n",
    "# Función\n",
    "def revision(param1):\n",
    "    for i in Lista:\n",
    "        print(type(i))\n",
    "        print(i)\n",
    "        print(\"\\\\\\n\")\n",
    "\n",
    "# Ejecución\n",
    "revision(param1=Lista)\n"
   ]
  },
  {
   "cell_type": "code",
   "execution_count": null,
   "metadata": {},
   "outputs": [],
   "source": [
    "## 2. Crea una función que en si es lista añada un elemento al final, pero si es un diccionario añada un nuevo valor, e imprima los valores para validar\n",
    "### El valor a agregar sera el color \"rojo\"\n",
    "\n",
    "# Opciones\n",
    "Lista= [\"UAEM\", 2023, 1.618034, True]\n",
    "Diccionario= {\"Ciudad\": \"Japón\", \"Capital\": \"Tokyo\", \"Población\": 13000000}\n",
    "Sin_valor= 3\n",
    "\n",
    "# Función\n",
    "def comparacion(param1):\n",
    "    if type(param1)==list:\n",
    "        param1.append(\"rojo\")\n",
    "        print(\"Es una lista\")\n",
    "        print(param1)\n",
    "    elif type(param1)==dict:\n",
    "        param1['color'] = \"rojo\"\n",
    "        print(\"Es un diccinario\")\n",
    "        print(param1)\n",
    "        print(param1.values())\n",
    "    else:\n",
    "        print(\"Ingrese una lista o diccionario\") \n",
    "\n",
    "# Ejecución\n",
    "comparacion(param1=Diccionario), comparacion(param1=Lista), comparacion(param1=Sin_valor)"
   ]
  },
  {
   "attachments": {},
   "cell_type": "markdown",
   "metadata": {},
   "source": [
    "## Herramientas Extra"
   ]
  },
  {
   "attachments": {},
   "cell_type": "markdown",
   "metadata": {},
   "source": [
    "Leer:\n",
    "https://medium.com/\n",
    "\n",
    "Aprender:\n",
    "https://www.datacamp.com/\n",
    "\n",
    "Programar desde cloud:\n",
    "https://saturncloud.io/"
   ]
  },
  {
   "attachments": {},
   "cell_type": "markdown",
   "metadata": {},
   "source": [
    "## Contacto"
   ]
  },
  {
   "attachments": {},
   "cell_type": "markdown",
   "metadata": {},
   "source": [
    "Linkedin: \n",
    "https://www.linkedin.com/in/ulisesgomezcortes/\n",
    "\n",
    "Facebook:\n",
    "https://www.facebook.com/ulises.gomezcortes/"
   ]
  }
 ],
 "metadata": {
  "kernelspec": {
   "display_name": "benv",
   "language": "python",
   "name": "python3"
  },
  "language_info": {
   "codemirror_mode": {
    "name": "ipython",
    "version": 3
   },
   "file_extension": ".py",
   "mimetype": "text/x-python",
   "name": "python",
   "nbconvert_exporter": "python",
   "pygments_lexer": "ipython3",
   "version": "3.11.3"
  },
  "orig_nbformat": 4,
  "vscode": {
   "interpreter": {
    "hash": "e92b6d8dd66e9d9d9e9659b4a8a8f38a84732b382b1bd1ed6b50afc937ca0101"
   }
  }
 },
 "nbformat": 4,
 "nbformat_minor": 2
}
